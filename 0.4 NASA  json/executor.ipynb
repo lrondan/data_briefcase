{
 "cells": [
  {
   "cell_type": "code",
   "execution_count": 2,
   "metadata": {},
   "outputs": [],
   "source": [
    "import sqlite3\n",
    "import pandas as pd"
   ]
  },
  {
   "cell_type": "code",
   "execution_count": 3,
   "metadata": {},
   "outputs": [
    {
     "name": "stdout",
     "output_type": "stream",
     "text": [
      "<sqlite3.Connection object at 0x00000000087207C0>\n"
     ]
    }
   ],
   "source": [
    "con = sqlite3.Connection('data.db')\n",
    "print(con)"
   ]
  },
  {
   "cell_type": "code",
   "execution_count": 4,
   "metadata": {},
   "outputs": [
    {
     "name": "stdout",
     "output_type": "stream",
     "text": [
      "                  name  magnitud potencial      velocidad    distancia cuerpo\n",
      "0          (2014 YW34)    21.600         1   22017.003799  62753692.00  Earth\n",
      "1          (2014 YW34)    21.600         1   22017.003799  62753692.00  Earth\n",
      "2          (2014 YW34)    21.600         1   22017.003799  62753692.00  Earth\n",
      "3           (2015 NK3)    21.300         0   65210.346095  57298148.00  Earth\n",
      "4   446862 (2001 VB76)    20.300         1   27326.560182   7622911.50  Earth\n",
      "5           (2001 WJ4)    27.400         0   40225.948191  42683616.00  Earth\n",
      "6          (2010 FH81)    21.600         1   35426.991794  61010824.00  Earth\n",
      "7          (2014 JG78)    19.600         0   38911.838251  58759768.00  Earth\n",
      "8   495323 (2014 JG78)    19.600         0   38911.829716  58759532.00  Earth\n",
      "9    153315 (2001 NH6)    19.200         0   87918.782382  19324928.00  Earth\n",
      "10   162463 (2000 JH5)    17.800         0   62545.621813  53598364.00  Earth\n",
      "11    306383 (1993 VD)    21.500         1   46438.594999  22709816.00  Earth\n",
      "12          (2009 BH2)    22.400         0   80716.918733  30075154.00  Earth\n",
      "13         (2009 DD45)    25.800         0   62188.601270  64479012.00  Earth\n",
      "14           (2012 UC)    25.000         0   43626.635832  53825524.00  Earth\n",
      "15  162854 (2001 DE47)    19.100         0   38987.734642  64425220.00  Earth\n",
      "16          (2009 CT5)    18.800         0  142579.180493  45023444.00  Earth\n",
      "17          (2016 WU7)    25.200         0   90760.638901  74196656.00  Earth\n",
      "18        (2006 BX139)    20.000         0   11120.414143  35727636.00  Earth\n",
      "19         (2008 QV11)    21.000         0   72069.270966  71520800.00  Earth\n",
      "20         (2014 FP47)    22.300         0   30694.755039  69003400.00  Earth\n",
      "21           (2014 YF)    22.700         0   28510.286561  16047525.00  Earth\n",
      "22          (2015 JR1)    26.100         0   16759.722936  38220508.00  Earth\n",
      "23          (2009 DF1)    20.600         0    7791.742256  63257484.00  Earth\n",
      "24           (1995 CR)    21.700         1  102308.235340   7261686.50  Earth\n",
      "25         (2014 BR57)    23.900         0   37985.471179   2952796.75  Earth\n",
      "26           (2006 TL)    23.900         0   63233.667549  64932800.00  Earth\n",
      "27          (2013 QU1)    21.300         1   69203.395649  15266183.00  Earth\n",
      "28         (2017 PZ26)    26.989         0   25790.933014  31654442.00  Earth\n"
     ]
    }
   ],
   "source": [
    "cursor = con.cursor()\n",
    "df = pd.read_sql('select * from `tabla1`', con)\n",
    "print(df)"
   ]
  },
  {
   "cell_type": "code",
   "execution_count": 5,
   "metadata": {},
   "outputs": [],
   "source": [
    "#### OPERACIONES CON LOS DATAFRAMES"
   ]
  },
  {
   "cell_type": "code",
   "execution_count": 6,
   "metadata": {},
   "outputs": [],
   "source": [
    "df.to_csv('./data_csv.csv')"
   ]
  },
  {
   "cell_type": "code",
   "execution_count": 7,
   "metadata": {},
   "outputs": [],
   "source": [
    "con.commit()\n",
    "con.close()"
   ]
  }
 ],
 "metadata": {
  "kernelspec": {
   "display_name": "Python 3",
   "language": "python",
   "name": "python3"
  },
  "language_info": {
   "codemirror_mode": {
    "name": "ipython",
    "version": 3
   },
   "file_extension": ".py",
   "mimetype": "text/x-python",
   "name": "python",
   "nbconvert_exporter": "python",
   "pygments_lexer": "ipython3",
   "version": "3.12.4"
  }
 },
 "nbformat": 4,
 "nbformat_minor": 2
}
